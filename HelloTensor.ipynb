{
 "cells": [
  {
   "cell_type": "code",
   "execution_count": 1,
   "outputs": [],
   "source": [
    "import torch"
   ],
   "metadata": {
    "collapsed": false,
    "pycharm": {
     "name": "#%%\n"
    }
   }
  },
  {
   "cell_type": "code",
   "execution_count": 2,
   "outputs": [
    {
     "name": "stdout",
     "output_type": "stream",
     "text": [
      "torch.__version__ = 1.6.0\n"
     ]
    }
   ],
   "source": [
    "print(f'torch.__version__ = {torch.__version__}')"
   ],
   "metadata": {
    "collapsed": false,
    "pycharm": {
     "name": "#%%\n"
    }
   }
  },
  {
   "cell_type": "code",
   "execution_count": 3,
   "outputs": [
    {
     "name": "stdout",
     "output_type": "stream",
     "text": [
      "Mon Oct 12 20:58:54 2020       \r\n",
      "+-----------------------------------------------------------------------------+\r\n",
      "| NVIDIA-SMI 455.23.04    Driver Version: 455.23.04    CUDA Version: 11.1     |\r\n",
      "|-------------------------------+----------------------+----------------------+\r\n",
      "| GPU  Name        Persistence-M| Bus-Id        Disp.A | Volatile Uncorr. ECC |\r\n",
      "| Fan  Temp  Perf  Pwr:Usage/Cap|         Memory-Usage | GPU-Util  Compute M. |\r\n",
      "|                               |                      |               MIG M. |\r\n",
      "|===============================+======================+======================|\r\n",
      "|   0  GeForce GTX 950     Off  | 00000000:08:00.0  On |                  N/A |\r\n",
      "| 52%   43C    P0    34W / 100W |   1042MiB /  1999MiB |      4%      Default |\r\n",
      "|                               |                      |                  N/A |\r\n",
      "+-------------------------------+----------------------+----------------------+\r\n",
      "                                                                               \r\n",
      "+-----------------------------------------------------------------------------+\r\n",
      "| Processes:                                                                  |\r\n",
      "|  GPU   GI   CI        PID   Type   Process name                  GPU Memory |\r\n",
      "|        ID   ID                                                   Usage      |\r\n",
      "|=============================================================================|\r\n",
      "|    0   N/A  N/A      1588      G   /usr/lib/xorg/Xorg                872MiB |\r\n",
      "|    0   N/A  N/A      2251      G   cinnamon                           30MiB |\r\n",
      "|    0   N/A  N/A      3075      G   seafile-applet                      1MiB |\r\n",
      "|    0   N/A  N/A      4801      G   ...gl=desktop --shared-files       97MiB |\r\n",
      "|    0   N/A  N/A     12356      G   .../debug.log --shared-files       30MiB |\r\n",
      "+-----------------------------------------------------------------------------+\r\n"
     ]
    }
   ],
   "source": [
    "!nvidia-smi"
   ],
   "metadata": {
    "collapsed": false,
    "pycharm": {
     "name": "#%%\n"
    }
   }
  },
  {
   "cell_type": "code",
   "execution_count": 4,
   "outputs": [
    {
     "name": "stdout",
     "output_type": "stream",
     "text": [
      "torch.cuda.is_available()=True\n"
     ]
    }
   ],
   "source": [
    "print(f'torch.cuda.is_available()={torch.cuda.is_available()}')"
   ],
   "metadata": {
    "collapsed": false,
    "pycharm": {
     "name": "#%%\n"
    }
   }
  },
  {
   "cell_type": "code",
   "execution_count": 5,
   "outputs": [
    {
     "name": "stdout",
     "output_type": "stream",
     "text": [
      "v = tensor([1, 2, 3, 4]) : (torch.int64, torch.Size([4]), torch.Size([4]), 1, 4)\n"
     ]
    }
   ],
   "source": [
    "v = torch.tensor([1,2,3,4])\n",
    "print(f'v = {v} : {v.dtype, v.shape, v.size(), v.dim(), v.numel()}')"
   ],
   "metadata": {
    "collapsed": false,
    "pycharm": {
     "name": "#%%\n"
    }
   }
  },
  {
   "cell_type": "code",
   "execution_count": 6,
   "outputs": [
    {
     "name": "stdout",
     "output_type": "stream",
     "text": [
      "w = tensor([1, 0, 2, 0])\n"
     ]
    }
   ],
   "source": [
    "w = torch.tensor([1,0,2,0])\n",
    "print(f'w = {w}')"
   ],
   "metadata": {
    "collapsed": false,
    "pycharm": {
     "name": "#%%\n"
    }
   }
  },
  {
   "cell_type": "code",
   "execution_count": 7,
   "outputs": [
    {
     "name": "stdout",
     "output_type": "stream",
     "text": [
      "v * w = tensor([1, 0, 6, 0])\n",
      "v @ w = 7\n",
      "torch.dot(v, w) = 7\n"
     ]
    }
   ],
   "source": [
    "print(f'v * w = {v * w}')\n",
    "print(f'v @ w = {v @ w}')\n",
    "print(f'torch.dot(v, w) = {torch.dot(v, w)}')"
   ],
   "metadata": {
    "collapsed": false,
    "pycharm": {
     "name": "#%%\n"
    }
   }
  },
  {
   "cell_type": "code",
   "execution_count": 8,
   "outputs": [
    {
     "name": "stdout",
     "output_type": "stream",
     "text": [
      "x = tensor([0., 5., 9., 3., 6.])\n",
      "x[0] = 0.0\n",
      "x[-1] = 6.0\n",
      "x[1:2] = tensor([5.])\n",
      "x[1:2+1] = tensor([5., 9.])\n"
     ]
    }
   ],
   "source": [
    "x = torch.Tensor(5).random_(10)\n",
    "print(f'x = {x}')\n",
    "print(f'x[0] = {x[0]}')\n",
    "print(f'x[-1] = {x[-1]}')\n",
    "print(f'x[1:2] = {x[1:2]}')\n",
    "print(f'x[1:2+1] = {x[1:2+1]}')"
   ],
   "metadata": {
    "collapsed": false,
    "pycharm": {
     "name": "#%%\n"
    }
   }
  },
  {
   "cell_type": "code",
   "execution_count": 9,
   "outputs": [
    {
     "name": "stdout",
     "output_type": "stream",
     "text": [
      "v = tensor([1, 2, 3, 4])\n",
      "v.pow(2) = tensor([ 1,  4,  9, 16])\n"
     ]
    }
   ],
   "source": [
    "v = torch.arange(1,4+1)\n",
    "print(f'v = {v}')\n",
    "print(f'v.pow(2) = {v.pow(2)}')"
   ],
   "metadata": {
    "collapsed": false,
    "pycharm": {
     "name": "#%%\n"
    }
   }
  },
  {
   "cell_type": "code",
   "execution_count": 10,
   "outputs": [
    {
     "data": {
      "text/plain": "tensor([[2, 5, 3, 7],\n        [4, 2, 1, 9]])"
     },
     "execution_count": 10,
     "metadata": {},
     "output_type": "execute_result"
    }
   ],
   "source": [
    "m = torch.tensor([[2, 5, 3,7],\n",
    "\t  [4, 2, 1, 9]])\n",
    "m"
   ],
   "metadata": {
    "collapsed": false,
    "pycharm": {
     "name": "#%%\n"
    }
   }
  },
  {
   "cell_type": "code",
   "execution_count": 11,
   "outputs": [
    {
     "data": {
      "text/plain": "(torch.int64, torch.Size([2, 4]), torch.Size([2, 4]), 2, 8)"
     },
     "execution_count": 11,
     "metadata": {},
     "output_type": "execute_result"
    }
   ],
   "source": [
    "m.dtype, m.shape, m.size(), m.dim(), m.numel()"
   ],
   "metadata": {
    "collapsed": false,
    "pycharm": {
     "name": "#%%\n"
    }
   }
  },
  {
   "cell_type": "code",
   "execution_count": 12,
   "outputs": [
    {
     "data": {
      "text/plain": "(tensor(3), tensor(3))"
     },
     "execution_count": 12,
     "metadata": {},
     "output_type": "execute_result"
    }
   ],
   "source": [
    "m[0][2], m[0,2]"
   ],
   "metadata": {
    "collapsed": false,
    "pycharm": {
     "name": "#%%\n"
    }
   }
  },
  {
   "cell_type": "code",
   "execution_count": 13,
   "outputs": [
    {
     "data": {
      "text/plain": "(tensor([5, 2]), torch.Size([2]))"
     },
     "execution_count": 13,
     "metadata": {},
     "output_type": "execute_result"
    }
   ],
   "source": [
    "m[:,1], m[:,1].shape"
   ],
   "metadata": {
    "collapsed": false,
    "pycharm": {
     "name": "#%%\n"
    }
   }
  },
  {
   "cell_type": "code",
   "execution_count": 13,
   "outputs": [],
   "source": [],
   "metadata": {
    "collapsed": false,
    "pycharm": {
     "name": "#%%\n"
    }
   }
  }
 ],
 "metadata": {
  "kernelspec": {
   "name": "pycharm-741628cb",
   "language": "python",
   "display_name": "PyCharm (HelloPytorch2)"
  },
  "language_info": {
   "codemirror_mode": {
    "name": "ipython",
    "version": 2
   },
   "file_extension": ".py",
   "mimetype": "text/x-python",
   "name": "python",
   "nbconvert_exporter": "python",
   "pygments_lexer": "ipython2",
   "version": "2.7.6"
  }
 },
 "nbformat": 4,
 "nbformat_minor": 0
}