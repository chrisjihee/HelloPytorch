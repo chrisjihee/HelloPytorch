{
 "cells": [
  {
   "cell_type": "markdown",
   "metadata": {},
   "source": [
    "# Introduction to Pytorch Lightning ⚡\n",
    "- https://colab.research.google.com/github/PytorchLightning/pytorch-lightning/blob/master/notebooks/01-mnist-hello-world.ipynb"
   ]
  },
  {
   "cell_type": "code",
   "execution_count": 1,
   "metadata": {
    "pycharm": {
     "name": "#%%\n"
    }
   },
   "outputs": [],
   "source": [
    "!pip install pytorch-lightning --quiet"
   ]
  },
  {
   "cell_type": "code",
   "execution_count": 2,
   "metadata": {
    "pycharm": {
     "name": "#%%\n"
    }
   },
   "outputs": [
    {
     "name": "stdout",
     "output_type": "stream",
     "text": [
      "available device: cuda\n"
     ]
    }
   ],
   "source": [
    "import time\n",
    "import torch\n",
    "from torch.nn import functional as F\n",
    "from torch.utils.data import DataLoader, random_split\n",
    "from torchvision.datasets import MNIST\n",
    "from torchvision import transforms\n",
    "import pytorch_lightning as pl\n",
    "\n",
    "device = 'cuda' if torch.cuda.is_available() else 'cpu'\n",
    "print(f'available device: {device}')\n",
    "torch.manual_seed(777)\n",
    "if device == 'cuda':\n",
    "    torch.cuda.manual_seed_all(777)"
   ]
  },
  {
   "cell_type": "code",
   "execution_count": 3,
   "metadata": {
    "pycharm": {
     "name": "#%%\n"
    }
   },
   "outputs": [
    {
     "name": "stderr",
     "output_type": "stream",
     "text": [
      "GPU available: True, used: True\n",
      "TPU available: False, using: 0 TPU cores\n",
      "LOCAL_RANK: 0 - CUDA_VISIBLE_DEVICES: [0]\n"
     ]
    }
   ],
   "source": [
    "class MyAccurateEye(pl.LightningModule):\n",
    "    def __init__(self, learning_rate, batch_size=100, num_workers=8, data_dir='/dat/data'):\n",
    "        super().__init__()\n",
    "        self.data_dir = data_dir\n",
    "        self.batch_size = batch_size\n",
    "        self.num_workers = num_workers\n",
    "        self.learning_rate = learning_rate\n",
    "        self.transform = transforms.Compose([\n",
    "            transforms.ToTensor(),\n",
    "            transforms.Normalize((0.1307,), (0.3081,))\n",
    "        ])\n",
    "        self.dataset = dict()\n",
    "        self.train_metric = pl.metrics.Accuracy()\n",
    "        self.valid_metric = pl.metrics.Accuracy()\n",
    "        self.test_metric = pl.metrics.Accuracy()\n",
    "\n",
    "        self.conv1 = torch.nn.Conv2d(1, 32, kernel_size=3, stride=1, padding=1)\n",
    "        self.relu1 = torch.nn.ReLU()\n",
    "        self.conv12 = torch.nn.Conv2d(32, 32, kernel_size=3, stride=1, padding=1)\n",
    "        self.relu12 = torch.nn.ReLU()\n",
    "        self.pool1 = torch.nn.MaxPool2d(kernel_size=2, stride=2)\n",
    "\n",
    "        self.conv2 = torch.nn.Conv2d(32, 64, kernel_size=3, stride=1, padding=1)\n",
    "        self.relu2 = torch.nn.ReLU()\n",
    "        self.conv22 = torch.nn.Conv2d(64, 64, kernel_size=3, stride=1, padding=1)\n",
    "        self.relu22 = torch.nn.ReLU()\n",
    "        self.pool2 = torch.nn.MaxPool2d(kernel_size=2, stride=2)\n",
    "\n",
    "        self.conv3 = torch.nn.Conv2d(64, 128, kernel_size=3, stride=1, padding=1)\n",
    "        self.relu3 = torch.nn.ReLU()\n",
    "        self.conv32 = torch.nn.Conv2d(128, 128, kernel_size=3, stride=1, padding=1)\n",
    "        self.relu32 = torch.nn.ReLU()\n",
    "        self.conv33 = torch.nn.Conv2d(128, 128, kernel_size=3, stride=1, padding=1)\n",
    "        self.relu33 = torch.nn.ReLU()\n",
    "\n",
    "        self.fc = torch.nn.Linear(7 * 7 * 128, 10, bias=True)\n",
    "        self.fc_bn = torch.nn.BatchNorm1d(10)\n",
    "        torch.nn.init.xavier_uniform_(self.fc.weight)\n",
    "\n",
    "    def forward(self, x):\n",
    "        out = self.conv1(x)\n",
    "        out = self.relu1(out)\n",
    "        out = self.conv12(out)\n",
    "        out = self.relu12(out)\n",
    "        out = self.pool1(out)\n",
    "\n",
    "        out = self.conv2(out)\n",
    "        out = self.relu2(out)\n",
    "        out = self.conv22(out)\n",
    "        out = self.relu22(out)\n",
    "        out = self.pool2(out)\n",
    "\n",
    "        out = self.conv3(out)\n",
    "        out = self.relu3(out)\n",
    "        out = self.conv32(out)\n",
    "        out = self.relu32(out)\n",
    "        out = self.conv33(out)\n",
    "        out = self.relu33(out)\n",
    "\n",
    "        out = out.view(out.size(0), -1)\n",
    "        out = self.fc(out)\n",
    "        out = self.fc_bn(out)\n",
    "        return out\n",
    "\n",
    "    def configure_optimizers(self):\n",
    "        return torch.optim.Adam(self.parameters(), lr=self.learning_rate)\n",
    "\n",
    "    def prepare_data(self):\n",
    "        MNIST(self.data_dir, train=True, download=True)\n",
    "        MNIST(self.data_dir, train=False, download=True)\n",
    "\n",
    "    def setup(self, stage=None):\n",
    "        if stage == 'fit' or stage is None:\n",
    "            data = MNIST(self.data_dir, train=True, transform=self.transform)\n",
    "            self.dataset['train'], self.dataset['valid'] = \\\n",
    "                random_split(data, lengths=[int(len(data) * 0.9), len(data) - int(len(data) * 0.9)])\n",
    "        if stage == 'test' or stage is None:\n",
    "            data = MNIST(self.data_dir, train=False, transform=self.transform)\n",
    "            self.dataset['test'] = data\n",
    "\n",
    "    def train_dataloader(self):\n",
    "        return DataLoader(self.dataset['train'], batch_size=self.batch_size, num_workers=self.num_workers)\n",
    "\n",
    "    def val_dataloader(self):\n",
    "        return DataLoader(self.dataset['valid'], batch_size=self.batch_size, num_workers=self.num_workers)\n",
    "\n",
    "    def test_dataloader(self):\n",
    "        return DataLoader(self.dataset['test'], batch_size=self.batch_size, num_workers=self.num_workers)\n",
    "\n",
    "    def calc_loss(self, batch, accuracy: pl.metrics.Accuracy):\n",
    "        x, y = batch\n",
    "        pred = self(x)\n",
    "        accuracy.update(pred, y)\n",
    "        return F.cross_entropy(pred, y)\n",
    "\n",
    "    def training_step(self, batch, batch_idx):\n",
    "        return self.calc_loss(batch, self.train_metric)\n",
    "\n",
    "    def validation_step(self, batch, batch_idx):\n",
    "        self.calc_loss(batch, self.valid_metric)\n",
    "\n",
    "    def test_step(self, batch, batch_idx):\n",
    "        self.calc_loss(batch, self.test_metric)\n",
    "\n",
    "    def on_epoch_end(self):\n",
    "        print(\"=\"*5 +f\" [Epoch {self.current_epoch+1}/{self.trainer.max_epochs}] \"+ \"=\"*70)\n",
    "        print(f\"* {show_accuracy('Train', self.train_metric)}\")\n",
    "        print(f\"* {show_accuracy('Valid', self.valid_metric)}\")\n",
    "        print()\n",
    "\n",
    "    def on_test_epoch_end(self):\n",
    "        print(f\"* {show_accuracy('Test', self.test_metric)}\")\n",
    "        print()\n",
    "\n",
    "model = pl.Trainer(gpus=1, max_epochs=5, num_sanity_val_steps=0, progress_bar_refresh_rate=40)\n",
    "def show_accuracy(name, acc):\n",
    "    detail = f'(={acc.correct}/{acc.total})'\n",
    "    metric = acc.compute()\n",
    "    return f'{name} Accuracy: {metric * 100:.2f}% {detail}'"
   ]
  },
  {
   "cell_type": "code",
   "execution_count": 4,
   "metadata": {
    "pycharm": {
     "name": "#%%\n"
    }
   },
   "outputs": [
    {
     "name": "stderr",
     "output_type": "stream",
     "text": [
      "\n",
      "   | Name         | Type        | Params\n",
      "----------------------------------------------\n",
      "0  | train_metric | Accuracy    | 0     \n",
      "1  | valid_metric | Accuracy    | 0     \n",
      "2  | test_metric  | Accuracy    | 0     \n",
      "3  | conv1        | Conv2d      | 320   \n",
      "4  | relu1        | ReLU        | 0     \n",
      "5  | conv12       | Conv2d      | 9 K   \n",
      "6  | relu12       | ReLU        | 0     \n",
      "7  | pool1        | MaxPool2d   | 0     \n",
      "8  | conv2        | Conv2d      | 18 K  \n",
      "9  | relu2        | ReLU        | 0     \n",
      "10 | conv22       | Conv2d      | 36 K  \n",
      "11 | relu22       | ReLU        | 0     \n",
      "12 | pool2        | MaxPool2d   | 0     \n",
      "13 | conv3        | Conv2d      | 73 K  \n",
      "14 | relu3        | ReLU        | 0     \n",
      "15 | conv32       | Conv2d      | 147 K \n",
      "16 | relu32       | ReLU        | 0     \n",
      "17 | conv33       | Conv2d      | 147 K \n",
      "18 | relu33       | ReLU        | 0     \n",
      "19 | fc           | Linear      | 62 K  \n",
      "20 | fc_bn        | BatchNorm1d | 20    \n"
     ]
    },
    {
     "data": {
      "text/plain": "HBox(children=(HTML(value='Training'), FloatProgress(value=1.0, bar_style='info', layout=Layout(flex='2'), max…",
      "application/vnd.jupyter.widget-view+json": {
       "version_major": 2,
       "version_minor": 0,
       "model_id": "ad8702a74eaa4f4fb109501d04cddd16"
      }
     },
     "metadata": {},
     "output_type": "display_data"
    },
    {
     "data": {
      "text/plain": "HBox(children=(HTML(value='Validating'), FloatProgress(value=1.0, bar_style='info', layout=Layout(flex='2'), m…",
      "application/vnd.jupyter.widget-view+json": {
       "version_major": 2,
       "version_minor": 0,
       "model_id": "02f0a2d3083b411aa2b2e52174b3c7af"
      }
     },
     "metadata": {},
     "output_type": "display_data"
    },
    {
     "name": "stdout",
     "output_type": "stream",
     "text": [
      "===== [Epoch 1/5] ======================================================================\n",
      "* Train Accuracy: 97.76% (=52789/54000)\n",
      "* Valid Accuracy: 99.05% (=5943/6000)\n",
      "\n",
      "===== [Epoch 2/5] ======================================================================\n",
      "* Train Accuracy: 99.10% (=53512/54000)\n",
      "* Valid Accuracy: 99.17% (=5950/6000)\n",
      "\n",
      "===== [Epoch 3/5] ======================================================================\n",
      "* Train Accuracy: 99.39% (=53672/54000)\n",
      "* Valid Accuracy: 99.20% (=5952/6000)\n",
      "\n",
      "===== [Epoch 4/5] ======================================================================\n",
      "* Train Accuracy: 99.58% (=53773/54000)\n",
      "* Valid Accuracy: 99.18% (=5951/6000)\n",
      "\n",
      "===== [Epoch 5/5] ======================================================================\n",
      "* Train Accuracy: 99.72% (=53851/54000)\n",
      "* Valid Accuracy: 99.30% (=5958/6000)\n",
      "\n",
      "\n",
      "Train Time: 32.299s\n"
     ]
    },
    {
     "data": {
      "text/plain": "HBox(children=(HTML(value='Validating'), FloatProgress(value=1.0, bar_style='info', layout=Layout(flex='2'), m…",
      "application/vnd.jupyter.widget-view+json": {
       "version_major": 2,
       "version_minor": 0,
       "model_id": "413c371754734b9ba2ea9c98e72d4711"
      }
     },
     "metadata": {},
     "output_type": "display_data"
    },
    {
     "data": {
      "text/plain": "HBox(children=(HTML(value='Validating'), FloatProgress(value=1.0, bar_style='info', layout=Layout(flex='2'), m…",
      "application/vnd.jupyter.widget-view+json": {
       "version_major": 2,
       "version_minor": 0,
       "model_id": "8d010e073faf413cb82d0d51dfb524b2"
      }
     },
     "metadata": {},
     "output_type": "display_data"
    },
    {
     "data": {
      "text/plain": "HBox(children=(HTML(value='Validating'), FloatProgress(value=1.0, bar_style='info', layout=Layout(flex='2'), m…",
      "application/vnd.jupyter.widget-view+json": {
       "version_major": 2,
       "version_minor": 0,
       "model_id": "0e347919ef0043f5a9dd7e8eee0ad437"
      }
     },
     "metadata": {},
     "output_type": "display_data"
    },
    {
     "data": {
      "text/plain": "HBox(children=(HTML(value='Validating'), FloatProgress(value=1.0, bar_style='info', layout=Layout(flex='2'), m…",
      "application/vnd.jupyter.widget-view+json": {
       "version_major": 2,
       "version_minor": 0,
       "model_id": "cd7af5a2380846e6a35d6f75f5300689"
      }
     },
     "metadata": {},
     "output_type": "display_data"
    }
   ],
   "source": [
    "t0 = time.time()\n",
    "model.fit(MyAccurateEye(learning_rate=0.001))\n",
    "print(f\"Train Time: {time.time() - t0:.3f}s\")"
   ]
  },
  {
   "cell_type": "code",
   "execution_count": 5,
   "metadata": {
    "pycharm": {
     "name": "#%%\n"
    }
   },
   "outputs": [
    {
     "data": {
      "text/plain": "HBox(children=(HTML(value='Testing'), FloatProgress(value=1.0, bar_style='info', layout=Layout(flex='2'), max=…",
      "application/vnd.jupyter.widget-view+json": {
       "version_major": 2,
       "version_minor": 0,
       "model_id": "1853c2d0ac7a41c3854c3df221027fda"
      }
     },
     "metadata": {},
     "output_type": "display_data"
    },
    {
     "name": "stdout",
     "output_type": "stream",
     "text": [
      "--------------------------------------------------------------------------------\n",
      "* Test Accuracy: 99.37% (=9937/10000)\n",
      "\n",
      "\n",
      "Test Time: 0.568s\n"
     ]
    }
   ],
   "source": [
    "t0 = time.time()\n",
    "model.test()\n",
    "print(f\"Test Time: {time.time() - t0:.3f}s\")"
   ]
  }
 ],
 "metadata": {
  "kernelspec": {
   "display_name": "Python 3",
   "language": "python",
   "name": "python3"
  },
  "language_info": {
   "codemirror_mode": {
    "name": "ipython",
    "version": 3
   },
   "file_extension": ".py",
   "mimetype": "text/x-python",
   "name": "python",
   "nbconvert_exporter": "python",
   "pygments_lexer": "ipython3",
   "version": "3.8.5"
  }
 },
 "nbformat": 4,
 "nbformat_minor": 1
}