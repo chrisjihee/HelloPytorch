{
 "cells": [
  {
   "cell_type": "markdown",
   "metadata": {},
   "source": [
    "## Introduction to Pytorch Lightning ⚡\n",
    "  * https://nbviewer.jupyter.org/github/PyTorchLightning/pytorch-lightning/blob/master/notebooks/01-mnist-hello-world.ipynb"
   ]
  },
  {
   "cell_type": "code",
   "execution_count": 1,
   "metadata": {
    "pycharm": {
     "name": "#%%\n"
    }
   },
   "outputs": [
    {
     "name": "stdout",
     "output_type": "stream",
     "text": [
      "[2020-10-28 14:22:28] [INIT] MNIST-pl.ipynb (on lightn)\r\n"
     ]
    }
   ],
   "source": [
    "!pip install pytorch-lightning --quiet\n",
    "import os, time\n",
    "os.environ['CURRENT_FILE'] = 'MNIST-pl.ipynb'\n",
    "!date \"+[%F %R:%S] [INIT] $CURRENT_FILE (on $CONDA_DEFAULT_ENV)\"\n",
    "\n",
    "import torch\n",
    "from torch.nn import functional as F\n",
    "from torch.utils.data import DataLoader, random_split\n",
    "from torchvision.datasets import MNIST\n",
    "from torchvision import transforms\n",
    "import pytorch_lightning as pl\n",
    "\n",
    "t0 = time.time()\n",
    "torch.manual_seed(777)\n",
    "if torch.cuda.is_available():\n",
    "    torch.cuda.manual_seed_all(777)"
   ]
  },
  {
   "cell_type": "code",
   "execution_count": 2,
   "metadata": {
    "pycharm": {
     "name": "#%%\n"
    }
   },
   "outputs": [
    {
     "name": "stderr",
     "output_type": "stream",
     "text": [
      "GPU available: True, used: True\n",
      "TPU available: False, using: 0 TPU cores\n",
      "LOCAL_RANK: 0 - CUDA_VISIBLE_DEVICES: [0]\n"
     ]
    }
   ],
   "source": [
    "class MNISTLigntning(pl.LightningModule):\n",
    "    def __init__(self, learning_rate, batch_size=100, num_workers=8, data_dir='/dat/data/'):\n",
    "        super().__init__()\n",
    "        self.data_dir = data_dir\n",
    "        self.batch_size = batch_size\n",
    "        self.num_workers = num_workers\n",
    "        self.learning_rate = learning_rate\n",
    "        self.transform = transforms.ToTensor()\n",
    "        self.train_metric = pl.metrics.Accuracy()\n",
    "        self.valid_metric = pl.metrics.Accuracy()\n",
    "        self.test_metric = pl.metrics.Accuracy()\n",
    "        self.dataset = {'train':None, 'valid':None, 'test':None}\n",
    "\n",
    "        self.conv1A = torch.nn.Conv2d(1, 32, kernel_size=3, stride=1, padding=1)\n",
    "        self.relu1A = torch.nn.ReLU()\n",
    "        self.conv1B = torch.nn.Conv2d(32, 32, kernel_size=3, stride=1, padding=1)\n",
    "        self.relu1B = torch.nn.ReLU()\n",
    "        self.pool1 = torch.nn.MaxPool2d(kernel_size=2, stride=2)\n",
    "\n",
    "        self.conv2A = torch.nn.Conv2d(32, 64, kernel_size=3, stride=1, padding=1)\n",
    "        self.relu2A = torch.nn.ReLU()\n",
    "        self.conv2B = torch.nn.Conv2d(64, 64, kernel_size=3, stride=1, padding=1)\n",
    "        self.relu2B = torch.nn.ReLU()\n",
    "        self.pool2 = torch.nn.MaxPool2d(kernel_size=2, stride=2)\n",
    "\n",
    "        self.conv3A = torch.nn.Conv2d(64, 128, kernel_size=3, stride=1, padding=1)\n",
    "        self.relu3A = torch.nn.ReLU()\n",
    "        self.conv3B = torch.nn.Conv2d(128, 128, kernel_size=3, stride=1, padding=1)\n",
    "        self.relu3B = torch.nn.ReLU()\n",
    "\n",
    "        self.fc = torch.nn.Linear(7 * 7 * 128, 10, bias=True)\n",
    "        self.fc_bn = torch.nn.BatchNorm1d(10)\n",
    "        torch.nn.init.xavier_uniform_(self.fc.weight)\n",
    "\n",
    "    def forward(self, inp):\n",
    "        out = self.conv1A(inp)\n",
    "        out = self.relu1A(out)\n",
    "        out = self.conv1B(out)\n",
    "        out = self.relu1B(out)\n",
    "        out = self.pool1(out)\n",
    "\n",
    "        out = self.conv2A(out)\n",
    "        out = self.relu2A(out)\n",
    "        out = self.conv2B(out)\n",
    "        out = self.relu2B(out)\n",
    "        out = self.pool2(out)\n",
    "\n",
    "        out = self.conv3A(out)\n",
    "        out = self.relu3A(out)\n",
    "        out = self.conv3B(out)\n",
    "        out = self.relu3B(out)\n",
    "\n",
    "        out = out.view(out.size(0), -1)\n",
    "        out = self.fc(out)\n",
    "        out = self.fc_bn(out)\n",
    "        return out\n",
    "\n",
    "    def configure_optimizers(self):\n",
    "        return torch.optim.Adam(self.parameters(), lr=self.learning_rate)\n",
    "\n",
    "    def prepare_data(self):\n",
    "        MNIST(self.data_dir, train=True, download=True)\n",
    "        MNIST(self.data_dir, train=False, download=True)\n",
    "\n",
    "    def setup(self, stage=None):\n",
    "        if stage == 'fit' or stage is None:\n",
    "            data = MNIST(self.data_dir, train=True, transform=self.transform)\n",
    "            self.dataset['train'], self.dataset['valid'] = \\\n",
    "                random_split(data, lengths=[int(len(data) * 0.9), len(data) - int(len(data) * 0.9)])\n",
    "        if stage == 'test' or stage is None:\n",
    "            data = MNIST(self.data_dir, train=False, transform=self.transform)\n",
    "            self.dataset['test'] = data\n",
    "\n",
    "    def train_dataloader(self):\n",
    "        return DataLoader(self.dataset['train'], batch_size=self.batch_size, num_workers=self.num_workers)\n",
    "\n",
    "    def val_dataloader(self):\n",
    "        return DataLoader(self.dataset['valid'], batch_size=self.batch_size, num_workers=self.num_workers)\n",
    "\n",
    "    def test_dataloader(self):\n",
    "        return DataLoader(self.dataset['test'], batch_size=self.batch_size, num_workers=self.num_workers)\n",
    "\n",
    "    def calc_loss(self, batch, accuracy: pl.metrics.Accuracy):\n",
    "        x, y = batch\n",
    "        pred = self(x)\n",
    "        accuracy.update(pred, y)\n",
    "        return F.cross_entropy(pred, y)\n",
    "\n",
    "    def training_step(self, batch, batch_idx):\n",
    "        return self.calc_loss(batch, self.train_metric)\n",
    "\n",
    "    def validation_step(self, batch, batch_idx):\n",
    "        self.calc_loss(batch, self.valid_metric)\n",
    "\n",
    "    def test_step(self, batch, batch_idx):\n",
    "        self.calc_loss(batch, self.test_metric)\n",
    "\n",
    "    def on_epoch_end(self):\n",
    "        print()\n",
    "        print(\"=\"*5 +f\" [Epoch {self.current_epoch+1}/{self.trainer.max_epochs}] \"+ \"=\"*70)\n",
    "        print(f\"* {show_accuracy('Train', self.train_metric)}\")\n",
    "        print(f\"* {show_accuracy('Valid', self.valid_metric)}\")\n",
    "\n",
    "    def on_test_epoch_end(self):\n",
    "        print()\n",
    "        print(f\"* {show_accuracy('Test', self.test_metric)}\")\n",
    "\n",
    "model = pl.Trainer(gpus=1, max_epochs=5, num_sanity_val_steps=0, progress_bar_refresh_rate=40)\n",
    "def show_accuracy(name, acc):\n",
    "    detail = f'(={acc.correct}/{acc.total})'\n",
    "    metric = acc.compute()\n",
    "    return f'{name} Accuracy: {metric * 100:.2f}% {detail}'"
   ]
  },
  {
   "cell_type": "code",
   "execution_count": 3,
   "metadata": {
    "pycharm": {
     "name": "#%%\n"
    }
   },
   "outputs": [
    {
     "name": "stderr",
     "output_type": "stream",
     "text": [
      "\n",
      "   | Name         | Type        | Params\n",
      "----------------------------------------------\n",
      "0  | train_metric | Accuracy    | 0     \n",
      "1  | valid_metric | Accuracy    | 0     \n",
      "2  | test_metric  | Accuracy    | 0     \n",
      "3  | conv1A       | Conv2d      | 320   \n",
      "4  | relu1A       | ReLU        | 0     \n",
      "5  | conv1B       | Conv2d      | 9 K   \n",
      "6  | relu1B       | ReLU        | 0     \n",
      "7  | pool1        | MaxPool2d   | 0     \n",
      "8  | conv2A       | Conv2d      | 18 K  \n",
      "9  | relu2A       | ReLU        | 0     \n",
      "10 | conv2B       | Conv2d      | 36 K  \n",
      "11 | relu2B       | ReLU        | 0     \n",
      "12 | pool2        | MaxPool2d   | 0     \n",
      "13 | conv3A       | Conv2d      | 73 K  \n",
      "14 | relu3A       | ReLU        | 0     \n",
      "15 | conv3B       | Conv2d      | 147 K \n",
      "16 | relu3B       | ReLU        | 0     \n",
      "17 | fc           | Linear      | 62 K  \n",
      "18 | fc_bn        | BatchNorm1d | 20    \n"
     ]
    },
    {
     "data": {
      "text/plain": "HBox(children=(HTML(value='Training'), FloatProgress(value=1.0, bar_style='info', layout=Layout(flex='2'), max…",
      "application/vnd.jupyter.widget-view+json": {
       "version_major": 2,
       "version_minor": 0,
       "model_id": "33af91a826ae4999a2ee57a910c07ab0"
      }
     },
     "metadata": {},
     "output_type": "display_data"
    },
    {
     "data": {
      "text/plain": "HBox(children=(HTML(value='Validating'), FloatProgress(value=1.0, bar_style='info', layout=Layout(flex='2'), m…",
      "application/vnd.jupyter.widget-view+json": {
       "version_major": 2,
       "version_minor": 0,
       "model_id": "331cdc8b13024650beaa3b2f1dcfd3b2"
      }
     },
     "metadata": {},
     "output_type": "display_data"
    },
    {
     "name": "stdout",
     "output_type": "stream",
     "text": [
      "\n",
      "===== [Epoch 1/5] ======================================================================\n",
      "* Train Accuracy: 97.22% (=52497/54000)\n",
      "* Valid Accuracy: 99.00% (=5940/6000)\n",
      "\n",
      "===== [Epoch 2/5] ======================================================================\n",
      "* Train Accuracy: 99.10% (=53513/54000)\n",
      "* Valid Accuracy: 99.25% (=5955/6000)\n",
      "\n",
      "===== [Epoch 3/5] ======================================================================\n",
      "* Train Accuracy: 99.45% (=53702/54000)\n",
      "* Valid Accuracy: 99.33% (=5960/6000)\n",
      "\n",
      "===== [Epoch 4/5] ======================================================================\n",
      "* Train Accuracy: 99.58% (=53772/54000)\n",
      "* Valid Accuracy: 99.43% (=5966/6000)\n",
      "\n",
      "===== [Epoch 5/5] ======================================================================\n",
      "* Train Accuracy: 99.74% (=53857/54000)\n",
      "* Valid Accuracy: 99.42% (=5965/6000)\n",
      "\n",
      "* Train Time: 31.247s\n"
     ]
    },
    {
     "data": {
      "text/plain": "HBox(children=(HTML(value='Validating'), FloatProgress(value=1.0, bar_style='info', layout=Layout(flex='2'), m…",
      "application/vnd.jupyter.widget-view+json": {
       "version_major": 2,
       "version_minor": 0,
       "model_id": "2db73ddd9f1749a0bb40fb9a2d9c1eab"
      }
     },
     "metadata": {},
     "output_type": "display_data"
    },
    {
     "data": {
      "text/plain": "HBox(children=(HTML(value='Validating'), FloatProgress(value=1.0, bar_style='info', layout=Layout(flex='2'), m…",
      "application/vnd.jupyter.widget-view+json": {
       "version_major": 2,
       "version_minor": 0,
       "model_id": "3b499aea975a4f438ac0a7403a94e809"
      }
     },
     "metadata": {},
     "output_type": "display_data"
    },
    {
     "data": {
      "text/plain": "HBox(children=(HTML(value='Validating'), FloatProgress(value=1.0, bar_style='info', layout=Layout(flex='2'), m…",
      "application/vnd.jupyter.widget-view+json": {
       "version_major": 2,
       "version_minor": 0,
       "model_id": "047d04a8a00948809f85df83083ee87d"
      }
     },
     "metadata": {},
     "output_type": "display_data"
    },
    {
     "data": {
      "text/plain": "HBox(children=(HTML(value='Validating'), FloatProgress(value=1.0, bar_style='info', layout=Layout(flex='2'), m…",
      "application/vnd.jupyter.widget-view+json": {
       "version_major": 2,
       "version_minor": 0,
       "model_id": "33195ac8223748118ea8615b4ca6306a"
      }
     },
     "metadata": {},
     "output_type": "display_data"
    }
   ],
   "source": [
    "t = time.time()\n",
    "model.fit(MNISTLigntning(learning_rate=0.001))\n",
    "print(f\"* Train Time: {time.time() - t:.3f}s\")"
   ]
  },
  {
   "cell_type": "code",
   "execution_count": 4,
   "metadata": {
    "pycharm": {
     "name": "#%%\n"
    }
   },
   "outputs": [
    {
     "data": {
      "text/plain": "HBox(children=(HTML(value='Testing'), FloatProgress(value=1.0, bar_style='info', layout=Layout(flex='2'), max=…",
      "application/vnd.jupyter.widget-view+json": {
       "version_major": 2,
       "version_minor": 0,
       "model_id": "699511710b7a4a828135681b80398dc9"
      }
     },
     "metadata": {},
     "output_type": "display_data"
    },
    {
     "name": "stdout",
     "output_type": "stream",
     "text": [
      "--------------------------------------------------------------------------------\n",
      "\n",
      "* Test Accuracy: 99.53% (=9953/10000)\n",
      "\n",
      "* Test Time: 0.583s\n"
     ]
    }
   ],
   "source": [
    "t = time.time()\n",
    "model.test()\n",
    "print(f\"* Test Time: {time.time() - t:.3f}s\")"
   ]
  },
  {
   "cell_type": "code",
   "execution_count": 5,
   "outputs": [
    {
     "name": "stdout",
     "output_type": "stream",
     "text": [
      "[2020-10-28 14:23:01] [EXIT] MNIST-pl.ipynb (on lightn) (in 31.992s)\r\n"
     ]
    }
   ],
   "source": [
    "os.environ['ELASPED_TIME'] = f\"{time.time() - t0:.3f}s\"\n",
    "!date \"+[%F %R:%S] [EXIT] $CURRENT_FILE (on $CONDA_DEFAULT_ENV) (in $ELASPED_TIME)\"\n"
   ],
   "metadata": {
    "collapsed": false,
    "pycharm": {
     "name": "#%%\n"
    }
   }
  }
 ],
 "metadata": {
  "kernelspec": {
   "display_name": "Python 3",
   "language": "python",
   "name": "python3"
  },
  "language_info": {
   "codemirror_mode": {
    "name": "ipython",
    "version": 3
   },
   "file_extension": ".py",
   "mimetype": "text/x-python",
   "name": "python",
   "nbconvert_exporter": "python",
   "pygments_lexer": "ipython3",
   "version": "3.8.5"
  }
 },
 "nbformat": 4,
 "nbformat_minor": 1
}