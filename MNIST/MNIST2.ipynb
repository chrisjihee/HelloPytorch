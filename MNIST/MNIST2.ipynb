{
 "cells": [
  {
   "cell_type": "markdown",
   "metadata": {},
   "source": [
    "## Introduction to Pytorch Lightning ⚡\n",
    "  * https://nbviewer.jupyter.org/github/PyTorchLightning/pytorch-lightning/blob/master/notebooks/01-mnist-hello-world.ipynb"
   ]
  },
  {
   "cell_type": "code",
   "execution_count": 1,
   "metadata": {
    "pycharm": {
     "name": "#%%\n"
    }
   },
   "outputs": [
    {
     "name": "stdout",
     "output_type": "stream",
     "text": [
      "[2020-10-29 03:52:42] [INIT] MNIST-pl.ipynb (on lightn)\r\n"
     ]
    }
   ],
   "source": [
    "!pip install pytorch-lightning --quiet\n",
    "import os, time\n",
    "os.environ['CURRENT_FILE'] = 'MNIST-pl.ipynb'\n",
    "!date \"+[%F %R:%S] [INIT] $CURRENT_FILE (on $CONDA_DEFAULT_ENV)\"\n",
    "t0 = time.time()\n",
    "\n",
    "\n",
    "import pytorch_lightning as pl\n",
    "import torch\n",
    "import torch.nn.functional as F\n",
    "from torch import nn\n",
    "from torch.utils.data import random_split, DataLoader\n",
    "from torchvision import transforms\n",
    "from torchvision.datasets import MNIST\n",
    "\n",
    "\n",
    "def to_accuracy_str(name, acc):\n",
    "    current = acc.correct, acc.total\n",
    "    detail = f'(={acc.correct}/{acc.total})'\n",
    "    metric = acc.compute()\n",
    "    acc.correct, acc.total = current\n",
    "    return f'{name} Accuracy: {metric * 100:.2f}% {detail}'\n",
    "\n",
    "\n",
    "def calc_accuracy(logits, labels):\n",
    "    metric = pl.metrics.Accuracy()\n",
    "    metric.update(preds=logits, target=labels)\n",
    "    return metric\n",
    "\n",
    "\n",
    "torch.manual_seed(777)\n",
    "if torch.cuda.is_available():\n",
    "    torch.cuda.manual_seed_all(777)"
   ]
  },
  {
   "cell_type": "code",
   "execution_count": 2,
   "metadata": {
    "pycharm": {
     "name": "#%%\n"
    }
   },
   "outputs": [
    {
     "name": "stderr",
     "output_type": "stream",
     "text": [
      "GPU available: True, used: True\n",
      "TPU available: False, using: 0 TPU cores\n",
      "LOCAL_RANK: 0 - CUDA_VISIBLE_DEVICES: [0]\n"
     ]
    }
   ],
   "source": [
    "\n",
    "class MNISTLitData(pl.LightningDataModule):\n",
    "    def __init__(self, data_dir='/dat/data/', batch_size=100, num_workers=8):\n",
    "        super().__init__()\n",
    "        self.data_dir = data_dir\n",
    "        self.batch_size = batch_size\n",
    "        self.num_workers = num_workers\n",
    "        self.transform = transforms.ToTensor()\n",
    "        self.dataset = dict()\n",
    "\n",
    "    def prepare_data(self):\n",
    "        MNIST(self.data_dir, train=True, download=True)\n",
    "        MNIST(self.data_dir, train=False, download=True)\n",
    "\n",
    "    def setup(self, stage=None):\n",
    "        if stage == 'fit' or stage is None:\n",
    "            data = MNIST(self.data_dir, train=True, transform=self.transform)\n",
    "            self.dataset['train'], self.dataset['valid'] = \\\n",
    "                random_split(data, lengths=[int(len(data) * 0.9), len(data) - int(len(data) * 0.9)])\n",
    "        if stage == 'test' or stage is None:\n",
    "            data = MNIST(self.data_dir, train=False, transform=self.transform)\n",
    "            self.dataset['test'] = data\n",
    "\n",
    "    def train_dataloader(self):\n",
    "        return DataLoader(self.dataset['train'], batch_size=self.batch_size, num_workers=self.num_workers)\n",
    "\n",
    "    def val_dataloader(self):\n",
    "        return DataLoader(self.dataset['valid'], batch_size=self.batch_size, num_workers=self.num_workers)\n",
    "\n",
    "    def test_dataloader(self):\n",
    "        return DataLoader(self.dataset['test'], batch_size=self.batch_size, num_workers=self.num_workers)\n",
    "\n",
    "\n",
    "class MNISTLit(pl.LightningModule):\n",
    "    def __init__(self, learning_rate):\n",
    "        super().__init__()\n",
    "\n",
    "        self.learning_rate = learning_rate\n",
    "        self.train_metric = pl.metrics.Accuracy()\n",
    "        self.valid_metric = pl.metrics.Accuracy()\n",
    "        self.test_metric = pl.metrics.Accuracy()\n",
    "\n",
    "        self.conv1A = nn.Conv2d(1, 32, kernel_size=3, stride=1, padding=1)\n",
    "        self.relu1A = nn.ReLU()\n",
    "        self.conv1B = nn.Conv2d(32, 32, kernel_size=3, stride=1, padding=1)\n",
    "        self.relu1B = nn.ReLU()\n",
    "        self.pool1 = nn.MaxPool2d(kernel_size=2, stride=2)\n",
    "\n",
    "        self.conv2A = nn.Conv2d(32, 64, kernel_size=3, stride=1, padding=1)\n",
    "        self.relu2A = nn.ReLU()\n",
    "        self.conv2B = nn.Conv2d(64, 64, kernel_size=3, stride=1, padding=1)\n",
    "        self.relu2B = nn.ReLU()\n",
    "        self.pool2 = nn.MaxPool2d(kernel_size=2, stride=2)\n",
    "\n",
    "        self.conv3A = nn.Conv2d(64, 128, kernel_size=3, stride=1, padding=1)\n",
    "        self.relu3A = nn.ReLU()\n",
    "        self.conv3B = nn.Conv2d(128, 128, kernel_size=3, stride=1, padding=1)\n",
    "        self.relu3B = nn.ReLU()\n",
    "\n",
    "        self.fc = nn.Linear(7 * 7 * 128, 10, bias=True)\n",
    "        self.fc_bn = nn.BatchNorm1d(10)\n",
    "        nn.init.xavier_uniform_(self.fc.weight)\n",
    "\n",
    "    def forward(self, inp):\n",
    "        out = self.conv1A(inp)\n",
    "        out = self.relu1A(out)\n",
    "        out = self.conv1B(out)\n",
    "        out = self.relu1B(out)\n",
    "        out = self.pool1(out)\n",
    "\n",
    "        out = self.conv2A(out)\n",
    "        out = self.relu2A(out)\n",
    "        out = self.conv2B(out)\n",
    "        out = self.relu2B(out)\n",
    "        out = self.pool2(out)\n",
    "\n",
    "        out = self.conv3A(out)\n",
    "        out = self.relu3A(out)\n",
    "        out = self.conv3B(out)\n",
    "        out = self.relu3B(out)\n",
    "\n",
    "        out = out.view(out.size(0), -1)\n",
    "        out = self.fc(out)\n",
    "        out = self.fc_bn(out)\n",
    "        return out\n",
    "\n",
    "    def configure_optimizers(self):\n",
    "        return torch.optim.Adam(self.parameters(), lr=self.learning_rate)\n",
    "\n",
    "    def on_epoch_start(self):\n",
    "        self.train_metric.reset()\n",
    "        self.valid_metric.reset()\n",
    "\n",
    "    def training_step(self, batch, batch_idx):\n",
    "        inputs, labels = batch\n",
    "        logits = self(inputs)\n",
    "        loss = F.cross_entropy(logits, labels)\n",
    "        self.train_metric.update(logits, labels)\n",
    "        return {'loss': loss, 'logits': logits, 'labels': labels}\n",
    "\n",
    "    def validation_step(self, batch, batch_idx):\n",
    "        inputs, labels = batch\n",
    "        logits = self(inputs)\n",
    "        loss = F.cross_entropy(logits, labels)\n",
    "        self.valid_metric.update(logits, labels)\n",
    "        return {'loss': loss, 'logits': logits, 'labels': labels}\n",
    "\n",
    "    def test_step(self, batch, batch_idx):\n",
    "        inputs, labels = batch\n",
    "        logits = self(inputs)\n",
    "        loss = F.cross_entropy(logits, labels)\n",
    "        self.test_metric.update(logits, labels)\n",
    "        return {'loss': loss, 'logits': logits, 'labels': labels}\n",
    "\n",
    "    def training_epoch_end(self, outputs):\n",
    "        print()\n",
    "        print(f\"* Train Loss: {torch.stack([x['loss'] for x in outputs]).mean():.4f}\")\n",
    "        # logits = torch.cat([x['logits'] for x in outputs]).detach().cpu()\n",
    "        # labels = torch.cat([x['labels'] for x in outputs]).detach().cpu()\n",
    "        # print(f\"* {to_accuracy_str('Train', calc_accuracy(logits, labels))}\")\n",
    "        print(f\"* {to_accuracy_str('Train', self.train_metric)}\")\n",
    "        print()\n",
    "\n",
    "    def validation_epoch_end(self, outputs):\n",
    "        print()\n",
    "        print(f\"* Valid Loss: {torch.stack([x['loss'] for x in outputs]).mean():.4f}\")\n",
    "        # logits = torch.cat([x['logits'] for x in outputs]).detach().cpu()\n",
    "        # labels = torch.cat([x['labels'] for x in outputs]).detach().cpu()\n",
    "        # print(f\"* {to_accuracy_str('Valid', calc_accuracy(logits, labels))}\")\n",
    "        print(f\"* {to_accuracy_str('Valid', self.valid_metric)}\")\n",
    "        print()\n",
    "\n",
    "    def test_epoch_end(self, outputs):\n",
    "        print()\n",
    "        print(f\"* Test Loss: {torch.stack([x['loss'] for x in outputs]).mean():.4f}\")\n",
    "        # logits = torch.cat([x['logits'] for x in outputs]).detach().cpu()\n",
    "        # labels = torch.cat([x['labels'] for x in outputs]).detach().cpu()\n",
    "        # print(f\"* {to_accuracy_str('Test', calc_accuracy(logits, labels))}\")\n",
    "        print(f\"* {to_accuracy_str('Test', self.test_metric)}\")\n",
    "        print()\n",
    "\n",
    "    def on_epoch_end(self):\n",
    "        print()\n",
    "        print(\"=\" * 5 + f\" [DONE] [Epoch {self.current_epoch + 1}/{self.trainer.max_epochs}] \" + \"=\" * 70)\n",
    "        print()\n",
    "\n",
    "    def on_test_epoch_end(self):\n",
    "        print()\n",
    "        print(\"=\" * 5 + f\" [DONE] [Test Epoch] \" + \"=\" * 70)\n",
    "        print()\n",
    "\n",
    "\n",
    "trainer = pl.Trainer(max_epochs=5, num_sanity_val_steps=0, progress_bar_refresh_rate=20, gpus=1)"
   ]
  },
  {
   "cell_type": "code",
   "execution_count": 3,
   "outputs": [
    {
     "name": "stderr",
     "output_type": "stream",
     "text": [
      "\n",
      "   | Name         | Type        | Params\n",
      "----------------------------------------------\n",
      "0  | train_metric | Accuracy    | 0     \n",
      "1  | valid_metric | Accuracy    | 0     \n",
      "2  | test_metric  | Accuracy    | 0     \n",
      "3  | conv1A       | Conv2d      | 320   \n",
      "4  | relu1A       | ReLU        | 0     \n",
      "5  | conv1B       | Conv2d      | 9 K   \n",
      "6  | relu1B       | ReLU        | 0     \n",
      "7  | pool1        | MaxPool2d   | 0     \n",
      "8  | conv2A       | Conv2d      | 18 K  \n",
      "9  | relu2A       | ReLU        | 0     \n",
      "10 | conv2B       | Conv2d      | 36 K  \n",
      "11 | relu2B       | ReLU        | 0     \n",
      "12 | pool2        | MaxPool2d   | 0     \n",
      "13 | conv3A       | Conv2d      | 73 K  \n",
      "14 | relu3A       | ReLU        | 0     \n",
      "15 | conv3B       | Conv2d      | 147 K \n",
      "16 | relu3B       | ReLU        | 0     \n",
      "17 | fc           | Linear      | 62 K  \n",
      "18 | fc_bn        | BatchNorm1d | 20    \n"
     ]
    },
    {
     "data": {
      "text/plain": "HBox(children=(HTML(value='Training'), FloatProgress(value=1.0, bar_style='info', layout=Layout(flex='2'), max…",
      "application/vnd.jupyter.widget-view+json": {
       "version_major": 2,
       "version_minor": 0,
       "model_id": "04c285ebc4ca4620a6de5130f4e4f428"
      }
     },
     "metadata": {},
     "output_type": "display_data"
    },
    {
     "data": {
      "text/plain": "HBox(children=(HTML(value='Validating'), FloatProgress(value=1.0, bar_style='info', layout=Layout(flex='2'), m…",
      "application/vnd.jupyter.widget-view+json": {
       "version_major": 2,
       "version_minor": 0,
       "model_id": "89bde806ad4240a3878d425526776176"
      }
     },
     "metadata": {},
     "output_type": "display_data"
    },
    {
     "name": "stdout",
     "output_type": "stream",
     "text": [
      "\n",
      "* Valid Loss: 0.1697\n",
      "* Valid Accuracy: 99.03% (=5942/6000)\n",
      "\n",
      "\n",
      "* Train Loss: 0.3352\n",
      "* Train Accuracy: 97.29% (=52534/54000)\n",
      "\n",
      "\n",
      "===== [DONE] [Epoch 1/5] ======================================================================\n",
      "\n",
      "\n",
      "* Valid Loss: 0.0922\n",
      "* Valid Accuracy: 99.28% (=5957/6000)\n",
      "\n",
      "\n",
      "* Train Loss: 0.1290\n",
      "* Train Accuracy: 99.13% (=53531/54000)\n",
      "\n",
      "\n",
      "===== [DONE] [Epoch 2/5] ======================================================================\n",
      "\n",
      "\n",
      "* Valid Loss: 0.0750\n",
      "* Valid Accuracy: 99.10% (=5946/6000)\n",
      "\n",
      "\n",
      "* Train Loss: 0.0736\n",
      "* Train Accuracy: 99.49% (=53722/54000)\n",
      "\n",
      "\n",
      "===== [DONE] [Epoch 3/5] ======================================================================\n",
      "\n",
      "\n",
      "* Valid Loss: 0.0399\n",
      "* Valid Accuracy: 99.37% (=5962/6000)\n",
      "\n",
      "\n",
      "* Train Loss: 0.0483\n",
      "* Train Accuracy: 99.61% (=53792/54000)\n",
      "\n",
      "\n",
      "===== [DONE] [Epoch 4/5] ======================================================================\n",
      "\n",
      "\n",
      "* Valid Loss: 0.0300\n",
      "* Valid Accuracy: 99.45% (=5967/6000)\n",
      "\n",
      "\n",
      "* Train Loss: 0.0332\n",
      "* Train Accuracy: 99.74% (=53857/54000)\n",
      "\n",
      "\n",
      "===== [DONE] [Epoch 5/5] ======================================================================\n",
      "\n",
      "\n",
      "* Train Time: 32.761s\n"
     ]
    },
    {
     "data": {
      "text/plain": "HBox(children=(HTML(value='Validating'), FloatProgress(value=1.0, bar_style='info', layout=Layout(flex='2'), m…",
      "application/vnd.jupyter.widget-view+json": {
       "version_major": 2,
       "version_minor": 0,
       "model_id": "a7a5ddf23fad453d82635bbde53d4a96"
      }
     },
     "metadata": {},
     "output_type": "display_data"
    },
    {
     "data": {
      "text/plain": "HBox(children=(HTML(value='Validating'), FloatProgress(value=1.0, bar_style='info', layout=Layout(flex='2'), m…",
      "application/vnd.jupyter.widget-view+json": {
       "version_major": 2,
       "version_minor": 0,
       "model_id": "bbc66aa174ab49589ff171dfa83ec4f7"
      }
     },
     "metadata": {},
     "output_type": "display_data"
    },
    {
     "data": {
      "text/plain": "HBox(children=(HTML(value='Validating'), FloatProgress(value=1.0, bar_style='info', layout=Layout(flex='2'), m…",
      "application/vnd.jupyter.widget-view+json": {
       "version_major": 2,
       "version_minor": 0,
       "model_id": "201fc16efbfc4de79c8f3e6fdd78b0ae"
      }
     },
     "metadata": {},
     "output_type": "display_data"
    },
    {
     "data": {
      "text/plain": "HBox(children=(HTML(value='Validating'), FloatProgress(value=1.0, bar_style='info', layout=Layout(flex='2'), m…",
      "application/vnd.jupyter.widget-view+json": {
       "version_major": 2,
       "version_minor": 0,
       "model_id": "a8fa9d2f2c7f44dcbc94a1e404eb6a81"
      }
     },
     "metadata": {},
     "output_type": "display_data"
    }
   ],
   "source": [
    "t = time.time()\n",
    "trainer.fit(MNISTLit(learning_rate=0.001), MNISTLitData())\n",
    "print(f\"* Train Time: {time.time() - t:.3f}s\")"
   ],
   "metadata": {
    "collapsed": false,
    "pycharm": {
     "name": "#%%\n"
    }
   }
  },
  {
   "cell_type": "code",
   "execution_count": 4,
   "metadata": {
    "pycharm": {
     "name": "#%%\n"
    }
   },
   "outputs": [
    {
     "data": {
      "text/plain": "HBox(children=(HTML(value='Testing'), FloatProgress(value=1.0, bar_style='info', layout=Layout(flex='2'), max=…",
      "application/vnd.jupyter.widget-view+json": {
       "version_major": 2,
       "version_minor": 0,
       "model_id": "062dd062362f479da36416a848ce29f1"
      }
     },
     "metadata": {},
     "output_type": "display_data"
    },
    {
     "name": "stdout",
     "output_type": "stream",
     "text": [
      "\n",
      "* Test Loss: 0.0244\n",
      "* Test Accuracy: 99.60% (=9960/10000)\n",
      "\n",
      "--------------------------------------------------------------------------------\n",
      "\n",
      "===== [DONE] [Test Epoch] ======================================================================\n",
      "\n",
      "\n",
      "* Test Time: 0.575s\n"
     ]
    }
   ],
   "source": [
    "t = time.time()\n",
    "trainer.test()\n",
    "print(f\"* Test Time: {time.time() - t:.3f}s\")"
   ]
  },
  {
   "cell_type": "code",
   "execution_count": 5,
   "outputs": [
    {
     "name": "stdout",
     "output_type": "stream",
     "text": [
      "[2020-10-29 03:53:18] [EXIT] MNIST-pl.ipynb (on lightn) (in 35.808s)\r\n"
     ]
    }
   ],
   "source": [
    "os.environ['ELASPED_TIME'] = f\"{time.time() - t0:.3f}s\"\n",
    "!date \"+[%F %R:%S] [EXIT] $CURRENT_FILE (on $CONDA_DEFAULT_ENV) (in $ELASPED_TIME)\"\n"
   ],
   "metadata": {
    "collapsed": false,
    "pycharm": {
     "name": "#%%\n"
    }
   }
  }
 ],
 "metadata": {
  "kernelspec": {
   "display_name": "Python 3",
   "language": "python",
   "name": "python3"
  },
  "language_info": {
   "codemirror_mode": {
    "name": "ipython",
    "version": 3
   },
   "file_extension": ".py",
   "mimetype": "text/x-python",
   "name": "python",
   "nbconvert_exporter": "python",
   "pygments_lexer": "ipython3",
   "version": "3.8.5"
  }
 },
 "nbformat": 4,
 "nbformat_minor": 1
}