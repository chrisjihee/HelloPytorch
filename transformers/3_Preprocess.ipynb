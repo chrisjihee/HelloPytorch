{
 "cells": [
  {
   "cell_type": "code",
   "execution_count": 1,
   "metadata": {},
   "outputs": [
    {
     "name": "stdout",
     "output_type": "stream",
     "text": [
      "[2020-10-25 00:45:52] [INIT] 3_Preprocess.ipynb (trans)\r\n"
     ]
    }
   ],
   "source": [
    "!date \"+[%F %R:%S] [INIT] 3_Preprocess.ipynb ($CONDA_DEFAULT_ENV)\"\n",
    "import time\n",
    "t0 = time.time()"
   ]
  },
  {
   "cell_type": "code",
   "execution_count": 2,
   "metadata": {
    "pycharm": {
     "name": "#%%\n"
    }
   },
   "outputs": [
    {
     "name": "stdout",
     "output_type": "stream",
     "text": [
      "[2020-10-25 00:45:52] [EXIT] 3_Preprocess.ipynb (trans)\n",
      "td=0.124\n"
     ]
    }
   ],
   "source": [
    "!date \"+[%F %R:%S] [EXIT] 3_Preprocess.ipynb ($CONDA_DEFAULT_ENV)\"\n",
    "print(f\"td={time.time() - t0:.3f}\")"
   ]
  }
 ],
 "metadata": {
  "kernelspec": {
   "display_name": "Python 3",
   "language": "python",
   "name": "python3"
  },
  "language_info": {
   "codemirror_mode": {
    "name": "ipython",
    "version": 3
   },
   "file_extension": ".py",
   "mimetype": "text/x-python",
   "name": "python",
   "nbconvert_exporter": "python",
   "pygments_lexer": "ipython3",
   "version": "3.8.5"
  }
 },
 "nbformat": 4,
 "nbformat_minor": 1
}
